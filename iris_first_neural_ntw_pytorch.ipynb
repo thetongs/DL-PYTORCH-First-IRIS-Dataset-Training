{
 "cells": [
  {
   "cell_type": "code",
   "execution_count": 1,
   "metadata": {},
   "outputs": [],
   "source": [
    "# Load Libraries \n",
    "import pandas as pd\n",
    "import numpy as np\n",
    "import matplotlib.pyplot as plt\n",
    "import seaborn as sns\n",
    "import torch\n"
   ]
  },
  {
   "cell_type": "code",
   "execution_count": 2,
   "metadata": {},
   "outputs": [
    {
     "data": {
      "text/html": [
       "<div>\n",
       "<style scoped>\n",
       "    .dataframe tbody tr th:only-of-type {\n",
       "        vertical-align: middle;\n",
       "    }\n",
       "\n",
       "    .dataframe tbody tr th {\n",
       "        vertical-align: top;\n",
       "    }\n",
       "\n",
       "    .dataframe thead th {\n",
       "        text-align: right;\n",
       "    }\n",
       "</style>\n",
       "<table border=\"1\" class=\"dataframe\">\n",
       "  <thead>\n",
       "    <tr style=\"text-align: right;\">\n",
       "      <th></th>\n",
       "      <th>sepal_length</th>\n",
       "      <th>sepal_width</th>\n",
       "      <th>petal_length</th>\n",
       "      <th>petal_width</th>\n",
       "      <th>species</th>\n",
       "    </tr>\n",
       "  </thead>\n",
       "  <tbody>\n",
       "    <tr>\n",
       "      <th>0</th>\n",
       "      <td>5.1</td>\n",
       "      <td>3.5</td>\n",
       "      <td>1.4</td>\n",
       "      <td>0.2</td>\n",
       "      <td>Iris-setosa</td>\n",
       "    </tr>\n",
       "    <tr>\n",
       "      <th>1</th>\n",
       "      <td>4.9</td>\n",
       "      <td>3.0</td>\n",
       "      <td>1.4</td>\n",
       "      <td>0.2</td>\n",
       "      <td>Iris-setosa</td>\n",
       "    </tr>\n",
       "    <tr>\n",
       "      <th>2</th>\n",
       "      <td>4.7</td>\n",
       "      <td>3.2</td>\n",
       "      <td>1.3</td>\n",
       "      <td>0.2</td>\n",
       "      <td>Iris-setosa</td>\n",
       "    </tr>\n",
       "    <tr>\n",
       "      <th>3</th>\n",
       "      <td>4.6</td>\n",
       "      <td>3.1</td>\n",
       "      <td>1.5</td>\n",
       "      <td>0.2</td>\n",
       "      <td>Iris-setosa</td>\n",
       "    </tr>\n",
       "    <tr>\n",
       "      <th>4</th>\n",
       "      <td>5.0</td>\n",
       "      <td>3.6</td>\n",
       "      <td>1.4</td>\n",
       "      <td>0.2</td>\n",
       "      <td>Iris-setosa</td>\n",
       "    </tr>\n",
       "  </tbody>\n",
       "</table>\n",
       "</div>"
      ],
      "text/plain": [
       "   sepal_length  sepal_width  petal_length  petal_width      species\n",
       "0           5.1          3.5           1.4          0.2  Iris-setosa\n",
       "1           4.9          3.0           1.4          0.2  Iris-setosa\n",
       "2           4.7          3.2           1.3          0.2  Iris-setosa\n",
       "3           4.6          3.1           1.5          0.2  Iris-setosa\n",
       "4           5.0          3.6           1.4          0.2  Iris-setosa"
      ]
     },
     "execution_count": 2,
     "metadata": {},
     "output_type": "execute_result"
    }
   ],
   "source": [
    "# Load Dataset\n",
    "dataset = pd.read_csv('https://archive.ics.uci.edu/ml/machine-learning-databases/iris/iris.data',\n",
    "                    names=['sepal_length', 'sepal_width', 'petal_length', 'petal_width', 'species'])\n",
    "dataset.head()"
   ]
  },
  {
   "cell_type": "code",
   "execution_count": 3,
   "metadata": {},
   "outputs": [],
   "source": [
    "# Preprocessing\n",
    "dataset['species'] = pd.Categorical(dataset['species']).codes\n",
    "dataset = dataset.sample(frac=1, random_state=1234)\n",
    "\n",
    "train_input = dataset.values[:120, :4]\n",
    "train_target = dataset.values[:120, 4]\n",
    "test_input = dataset.values[120:, :4]\n",
    "test_target = dataset.values[120:, 4]\n"
   ]
  },
  {
   "cell_type": "code",
   "execution_count": 4,
   "metadata": {},
   "outputs": [],
   "source": [
    "# Define Neural Network\n",
    "torch.manual_seed(10)\n",
    "hidden_units = 5\n",
    "net = torch.nn.Sequential(\n",
    "        torch.nn.Linear(4, hidden_units),\n",
    "        torch.nn.ReLU(), # Activation Function\n",
    "        torch.nn.Linear(hidden_units, 3)\n",
    ")\n"
   ]
  },
  {
   "cell_type": "code",
   "execution_count": 5,
   "metadata": {},
   "outputs": [],
   "source": [
    "# Need Optimizer and Loss Function\n",
    "criterion = torch.nn.CrossEntropyLoss()\n",
    "optimizer = torch.optim.SGD( # Stochastic Gradient Descent\n",
    "                net.parameters(), \n",
    "                lr = 0.1,\n",
    "                momentum = 0.9\n",
    ")\n"
   ]
  },
  {
   "cell_type": "code",
   "execution_count": 9,
   "metadata": {},
   "outputs": [],
   "source": [
    "# Train Network\n",
    "epoch_list = []\n",
    "loss_list = []\n",
    "epochs = 50\n",
    "for epoch in range(epochs):\n",
    "    inputs = torch.autograd.Variable(torch.Tensor(train_input).float())\n",
    "    targets =torch.autograd.Variable(torch.Tensor(train_target).long())\n",
    "    optimizer.zero_grad() # Prevent Accumulation from previous iterations\n",
    "    out = net(inputs)\n",
    "    loss = criterion(out, targets)\n",
    "    loss.backward()\n",
    "    optimizer.step()\n",
    "\n",
    "    epoch_list.append(epoch)\n",
    "    loss_list .append(loss.item())\n",
    "\n",
    "    # print('Epoch %d Loss: %.4f' % (epoch + 1, loss.item()))\n"
   ]
  },
  {
   "cell_type": "code",
   "execution_count": 10,
   "metadata": {},
   "outputs": [
    {
     "data": {
      "text/html": [
       "<div>\n",
       "<style scoped>\n",
       "    .dataframe tbody tr th:only-of-type {\n",
       "        vertical-align: middle;\n",
       "    }\n",
       "\n",
       "    .dataframe tbody tr th {\n",
       "        vertical-align: top;\n",
       "    }\n",
       "\n",
       "    .dataframe thead th {\n",
       "        text-align: right;\n",
       "    }\n",
       "</style>\n",
       "<table border=\"1\" class=\"dataframe\">\n",
       "  <thead>\n",
       "    <tr style=\"text-align: right;\">\n",
       "      <th></th>\n",
       "      <th>Epoch Number</th>\n",
       "      <th>Loss</th>\n",
       "    </tr>\n",
       "  </thead>\n",
       "  <tbody>\n",
       "    <tr>\n",
       "      <th>0</th>\n",
       "      <td>0</td>\n",
       "      <td>0.156184</td>\n",
       "    </tr>\n",
       "    <tr>\n",
       "      <th>1</th>\n",
       "      <td>1</td>\n",
       "      <td>0.155270</td>\n",
       "    </tr>\n",
       "    <tr>\n",
       "      <th>2</th>\n",
       "      <td>2</td>\n",
       "      <td>0.154372</td>\n",
       "    </tr>\n",
       "    <tr>\n",
       "      <th>3</th>\n",
       "      <td>3</td>\n",
       "      <td>0.153490</td>\n",
       "    </tr>\n",
       "    <tr>\n",
       "      <th>4</th>\n",
       "      <td>4</td>\n",
       "      <td>0.152624</td>\n",
       "    </tr>\n",
       "  </tbody>\n",
       "</table>\n",
       "</div>"
      ],
      "text/plain": [
       "   Epoch Number      Loss\n",
       "0             0  0.156184\n",
       "1             1  0.155270\n",
       "2             2  0.154372\n",
       "3             3  0.153490\n",
       "4             4  0.152624"
      ]
     },
     "execution_count": 10,
     "metadata": {},
     "output_type": "execute_result"
    }
   ],
   "source": [
    "# Create Dataframe for Visual Representation\n",
    "epoch_dataset = pd.DataFrame()\n",
    "epoch_dataset[\"Epoch Number\"] = epoch_list\n",
    "epoch_dataset[\"Loss\"] = loss_list\n",
    "\n",
    "epoch_dataset.head()"
   ]
  },
  {
   "cell_type": "code",
   "execution_count": 12,
   "metadata": {},
   "outputs": [
    {
     "data": {
      "image/png": "[encoded data removed]",
      "text/plain": [
       "<Figure size 1440x864 with 1 Axes>"
      ]
     },
     "metadata": {},
     "output_type": "display_data"
    }
   ],
   "source": [
    "# Loss Function Visual Representations\n",
    "sns.set(rc = {\"figure.figsize\":(20, 12)}) # width = 8, # height = 3\n",
    "sns.set_theme(style = \"darkgrid\")\n",
    "sns.set_context('talk')\n",
    "\n",
    "dataset = sns.load_dataset(\"flights\")\n",
    "\n",
    "sns.lineplot(data = epoch_dataset, # Dataset\n",
    "            x = 'Epoch Number', # Feature\n",
    "            y = 'Loss', # Feature\n",
    "            marker = \"o\", # Marker\n",
    "            palette = 'PiYG') # Palette\n",
    "\n",
    "plt.xlabel('Epoch Number', fontsize = 15) # X-axis label\n",
    "plt.ylabel('Loss', fontsize = 15) # Y-axis label\n",
    "plt.title('Epoch vs Loss', fontsize = 15) # Title for graph\n",
    "plt.xticks(fontsize = 12, rotation = 'vertical') # [] Pass custom values\n",
    "plt.yticks(fontsize = 12, rotation = 'vertical') # [] Pass custom values\n",
    "plt.margins(0.2) # Need space beween plot and axes\n",
    "plt.grid(True) # Apply grid to graph\n",
    "# #plt.axis([0, 8, 0, 10]) # Set X-Axis and Y-Axis limits 0,8 for X and 0,10 for Y Dont use xticks ad yticks if using this                                 \n",
    "# plt.xlim([0, 8]) # Same as axis() \n",
    "# plt.ylim(0, 10) # Same as axis() Dont use axis() is using this\n",
    "\n",
    "plt.show()\n",
    "plt.close()"
   ]
  },
  {
   "cell_type": "code",
   "execution_count": 13,
   "metadata": {},
   "outputs": [
    {
     "name": "stdout",
     "output_type": "stream",
     "text": [
      "Errors: 0; Accuracy: 100%\n"
     ]
    }
   ],
   "source": [
    "# Accuracy Matters\n",
    "inputs = torch.autograd.Variable(torch.Tensor(test_input).float())\n",
    "targets = torch.autograd.Variable(torch.Tensor(test_target).long())\n",
    "optimizer.zero_grad()\n",
    "out = net(inputs)\n",
    "_, predicted = torch.max(out.data, 1)\n",
    "error_count = test_target.size - np.count_nonzero((targets == predicted).numpy())\n",
    "print('Errors: %d; Accuracy: %d%%' % (error_count, 100 * torch.sum(targets == predicted) / test_target.size))\n"
   ]
  },
  {
   "cell_type": "code",
   "execution_count": 1,
   "metadata": {},
   "outputs": [
    {
     "name": "stderr",
     "output_type": "stream",
     "text": [
      "[NbConvertApp] Converting notebook iris_first_neural_ntw_pytorch.ipynb to script\n",
      "[NbConvertApp] Writing 3711 bytes to iris_first_neural_ntw_pytorch.py\n"
     ]
    }
   ],
   "source": [
    "# Convert to Python\n",
    "!jupyter nbconvert --to script \"iris_first_neural_ntw_pytorch.ipynb\"\n"
   ]
  },
  {
   "cell_type": "code",
   "execution_count": 1,
   "metadata": {},
   "outputs": [
    {
     "name": "stderr",
     "output_type": "stream",
     "text": [
      "[NbConvertApp] Converting notebook iris_first_neural_ntw_pytorch.ipynb to PDFviaHTML\n",
      "[NbConvertApp] Writing 272012 bytes to iris_first_neural_ntw_pytorch.pdf\n"
     ]
    }
   ],
   "source": [
    "!jupyter nbconvert --to PDFviaHTML \"iris_first_neural_ntw_pytorch.ipynb\""
   ]
  }
 ],
 "metadata": {
  "kernelspec": {
   "display_name": "Python 3.10.4 ('deep_baba')",
   "language": "python",
   "name": "python3"
  },
  "language_info": {
   "codemirror_mode": {
    "name": "ipython",
    "version": 3
   },
   "file_extension": ".py",
   "mimetype": "text/x-python",
   "name": "python",
   "nbconvert_exporter": "python",
   "pygments_lexer": "ipython3",
   "version": "3.10.4"
  },
  "orig_nbformat": 4,
  "vscode": {
   "interpreter": {
    "hash": "721df424fd640b422269b2020124aca1797b6232697b19e1139eba37780503e1"
   }
  }
 },
 "nbformat": 4,
 "nbformat_minor": 2
}
